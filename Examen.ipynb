{
 "cells": [
  {
   "cell_type": "markdown",
   "metadata": {},
   "source": [
    "# **Examen**"
   ]
  },
  {
   "cell_type": "code",
   "execution_count": 129,
   "metadata": {},
   "outputs": [],
   "source": [
    "#Librerías\n",
    "import pandas as pd\n",
    "import numpy as np\n",
    "import matplotlib.pyplot as plt\n",
    "import seaborn as sns\n",
    "from sklearn.tree import DecisionTreeRegressor\n",
    "from sklearn.model_selection import train_test_split\n",
    "from sklearn.preprocessing import StandardScaler\n",
    "from keras.models import Sequential\n",
    "from keras.layers import Dense\n",
    "from sklearn.metrics import mean_absolute_error, mean_squared_error, r2_score\n",
    "import scipy.stats as stats\n",
    "import statsmodels.api as sm\n",
    "from statsmodels.stats.multicomp import pairwise_tukeyhsd\n",
    "from statsmodels.formula.api import ols\n"
   ]
  },
  {
   "cell_type": "markdown",
   "metadata": {},
   "source": [
    "La base de datos con la que contamos brinda información sobre videojuegos que se han vendido alrededor del mundo. Esta cuenta con 16 variables que incluyen información principal como nombre, plataforma, año que se sacó al mercado, ventas en diferentes partes del mundo, rating, entre otras. Esta puede verse en la siguiente tabla."
   ]
  },
  {
   "cell_type": "code",
   "execution_count": 130,
   "metadata": {},
   "outputs": [
    {
     "name": "stdout",
     "output_type": "stream",
     "text": [
      "<class 'pandas.core.frame.DataFrame'>\n",
      "RangeIndex: 16719 entries, 0 to 16718\n",
      "Data columns (total 16 columns):\n",
      " #   Column           Non-Null Count  Dtype  \n",
      "---  ------           --------------  -----  \n",
      " 0   Name             16717 non-null  object \n",
      " 1   Platform         16719 non-null  object \n",
      " 2   Year_of_Release  16450 non-null  float64\n",
      " 3   Genre            16717 non-null  object \n",
      " 4   Publisher        16665 non-null  object \n",
      " 5   NA_Sales         16719 non-null  float64\n",
      " 6   EU_Sales         16719 non-null  float64\n",
      " 7   JP_Sales         16719 non-null  float64\n",
      " 8   Other_Sales      16719 non-null  float64\n",
      " 9   Global_Sales     16719 non-null  float64\n",
      " 10  Critic_Score     8137 non-null   float64\n",
      " 11  Critic_Count     8137 non-null   float64\n",
      " 12  User_Score       10015 non-null  object \n",
      " 13  User_Count       7590 non-null   float64\n",
      " 14  Developer        10096 non-null  object \n",
      " 15  Rating           9950 non-null   object \n",
      "dtypes: float64(9), object(7)\n",
      "memory usage: 2.0+ MB\n"
     ]
    }
   ],
   "source": [
    "#Archivo\n",
    "video = pd.read_csv(\"Video_Games_Sales_as_at_22_Dec_2016.csv\")\n",
    "video.info()"
   ]
  },
  {
   "cell_type": "markdown",
   "metadata": {},
   "source": [
    "Para aplicar modelos estadísticos y encontrar información valiosa, primero debemos hacer una limpieza de nulos de las variables que necesitamos."
   ]
  },
  {
   "cell_type": "markdown",
   "metadata": {},
   "source": [
    "## Parte 0. Limpieza de datos"
   ]
  },
  {
   "cell_type": "markdown",
   "metadata": {},
   "source": [
    "Primero trabajaremos los nulos que utilizaremos en los modelos que propondremos más adelante."
   ]
  },
  {
   "cell_type": "code",
   "execution_count": 131,
   "metadata": {},
   "outputs": [
    {
     "data": {
      "text/plain": [
       "Name                  2\n",
       "Platform              0\n",
       "Year_of_Release     269\n",
       "Genre                 2\n",
       "Publisher            54\n",
       "NA_Sales              0\n",
       "EU_Sales              0\n",
       "JP_Sales              0\n",
       "Other_Sales           0\n",
       "Global_Sales          0\n",
       "Critic_Score       8582\n",
       "Critic_Count       8582\n",
       "User_Score         6704\n",
       "User_Count         9129\n",
       "Developer          6623\n",
       "Rating             6769\n",
       "dtype: int64"
      ]
     },
     "execution_count": 131,
     "metadata": {},
     "output_type": "execute_result"
    }
   ],
   "source": [
    "video.isnull().sum()"
   ]
  },
  {
   "cell_type": "markdown",
   "metadata": {},
   "source": [
    "Se tratarán el número de críticos y el score de críticos con la media de cada variable."
   ]
  },
  {
   "cell_type": "code",
   "execution_count": 132,
   "metadata": {},
   "outputs": [],
   "source": [
    "video[\"Critic_Count\"] = video[\"Critic_Count\"].fillna(video[\"Critic_Count\"].mean())\n",
    "video[\"Critic_Score\"] = video[\"Critic_Score\"].fillna(video[\"Critic_Score\"].mean())"
   ]
  },
  {
   "cell_type": "code",
   "execution_count": 133,
   "metadata": {},
   "outputs": [
    {
     "data": {
      "text/plain": [
       "Name                  2\n",
       "Platform              0\n",
       "Year_of_Release     269\n",
       "Genre                 2\n",
       "Publisher            54\n",
       "NA_Sales              0\n",
       "EU_Sales              0\n",
       "JP_Sales              0\n",
       "Other_Sales           0\n",
       "Global_Sales          0\n",
       "Critic_Score          0\n",
       "Critic_Count          0\n",
       "User_Score         6704\n",
       "User_Count         9129\n",
       "Developer          6623\n",
       "Rating             6769\n",
       "dtype: int64"
      ]
     },
     "execution_count": 133,
     "metadata": {},
     "output_type": "execute_result"
    }
   ],
   "source": [
    "video.isnull().sum()"
   ]
  },
  {
   "cell_type": "markdown",
   "metadata": {},
   "source": [
    "Además, la variabole rating igual tiene nulos, los cuales llenaremos con el string \"S.Info\" que signfiica \"Sin información\"."
   ]
  },
  {
   "cell_type": "code",
   "execution_count": 134,
   "metadata": {},
   "outputs": [],
   "source": [
    "video[\"Rating\"] = video[\"Rating\"].fillna(\"S.Info.\")"
   ]
  },
  {
   "cell_type": "markdown",
   "metadata": {},
   "source": [
    "## Parte 1. Análisis de Regresión\n",
    "\n",
    "Una vez que tenemos listas las variables que utilizaremos, generaremos análisis de regresión los cuales nos ayudarán a predecir las ventas globales depenidendo de distintas variables. Para ello, utiizaremos los modelos de Arboles de Regresión y Redes Neuronales ANN, las cuales evaluaremos para escoger la que nos brinde información más precisa.\n",
    "\n",
    "Para ello, primero utilizaremos un mapa de calor para determinar cuáles son las variables mejor relacionadas a Global Sales, como podemos ver en el siguiente gráfico. "
   ]
  },
  {
   "cell_type": "code",
   "execution_count": 135,
   "metadata": {},
   "outputs": [
    {
     "data": {
      "image/png": "[encoded data removed]",
      "text/plain": [
       "<Figure size 1000x800 with 2 Axes>"
      ]
     },
     "metadata": {},
     "output_type": "display_data"
    }
   ],
   "source": [
    "data_selected = video[[\"Year_of_Release\", \"NA_Sales\", \"EU_Sales\", \"JP_Sales\", \"Other_Sales\", \"Global_Sales\", \"Critic_Score\", \"Critic_Count\", \"User_Count\"]]\n",
    "# \n",
    "# Calcula la matriz de correlación\n",
    "correlation_matrix = data_selected.corr()\n",
    "# \n",
    "# Crea el heatmap con seaborn\n",
    "plt.figure(figsize=(10, 8))\n",
    "sns.heatmap(correlation_matrix, annot=True, cmap=\"coolwarm\", fmt=\".2f\", linewidths=.5)\n",
    "plt.title(\"Heatmap de Correlación entre Variables Numéricas\")\n",
    "plt.show()"
   ]
  },
  {
   "cell_type": "markdown",
   "metadata": {},
   "source": [
    "Observamso que las variables que tienen una relación más fuertes son todas las de ventas, lo cual era de suponerse debido a que la suma de estas son las ventas globales. Sin embargo, para tener otras variables que nos ayuden a predecir las ventas que se tendrán de nuevos videojuegos, aplicaremos variables como el número de Críticos y el Score que ellos dan a cada videojuego. \n",
    "\n",
    "Variables que usaremos:\n",
    "* Ventas\n",
    "* Critic Count\n",
    "* Critic Score\n",
    "\n",
    "En las siguientes líneas de código, definimos a X (nuestras variables dependientes, las cuales son las mencionadas anteriorimente) y Y, que es nuestra variable objetivo y que serán las ventas globales. Además dividiremos nuestra base de datos y separaremos el 30% de esta, de modo que el 70% restante nos ayude a entrenar el modelo (training_set) y el otro a evaluarlo (test_set)."
   ]
  },
  {
   "cell_type": "code",
   "execution_count": 136,
   "metadata": {},
   "outputs": [],
   "source": [
    "y = video[\"Global_Sales\"]\n",
    "X = video[[\"NA_Sales\", \"EU_Sales\", \"JP_Sales\", \"Other_Sales\", \"Critic_Score\", \"Critic_Count\"]]"
   ]
  },
  {
   "cell_type": "code",
   "execution_count": 137,
   "metadata": {},
   "outputs": [],
   "source": [
    "#Particionamos nuestra DB en training y test sets.\n",
    "X_train, X_test, y_train, y_test = train_test_split(X, y, test_size=0.3, random_state=44)"
   ]
  },
  {
   "cell_type": "markdown",
   "metadata": {},
   "source": [
    "### Arboles de Regresión\n",
    "Una vez que hemos preparado nuestra base de datos, generaremos nuestro modelo de Arboles de Regresión como se muestra en la ssiguientes líneas de código."
   ]
  },
  {
   "cell_type": "code",
   "execution_count": 138,
   "metadata": {},
   "outputs": [],
   "source": [
    "#El árbol de regresión.\n",
    "model = DecisionTreeRegressor(random_state=44)\n",
    "model.fit(X_train, y_train)\n",
    "predictions = model.predict(X_test)"
   ]
  },
  {
   "cell_type": "markdown",
   "metadata": {},
   "source": [
    "Finalmente, hacemos la evaluación del modelo, tomando en cuenta métricas como:\n",
    "* MAE: Error Absoluto Medio \n",
    "* MSE: Error Cuadrado Medio\n",
    "* RMSE: Raíz del Error Cuadrático Medio\n",
    "* R^2: R cuadrada la cual nos explica qué tanto de Y es explicado por el modelo. \n",
    "\n",
    "Los errores deben ser lo más bajos posibles y deben ser comparados con los errores de otros modelos que generemos, mientras que la R^2 debe ser lo más cercana a 1 posible."
   ]
  },
  {
   "cell_type": "code",
   "execution_count": 139,
   "metadata": {},
   "outputs": [
    {
     "name": "stdout",
     "output_type": "stream",
     "text": [
      "MAE: 0.04445811785662363\n",
      "MSE: 0.0705260544112448\n",
      "RMSE: 0.2655674197096564\n",
      "R^2: 0.9703886731716219\n"
     ]
    }
   ],
   "source": [
    "# Calcula las métricas\n",
    "mae = mean_absolute_error(y_test, predictions)\n",
    "mse = mean_squared_error(y_test, predictions)\n",
    "rmse = np.sqrt(mse)\n",
    "r2 = r2_score(y_test, predictions)\n",
    "\n",
    "print(f\"MAE: {mae}\")\n",
    "print(f\"MSE: {mse}\")\n",
    "print(f\"RMSE: {rmse}\")\n",
    "print(f\"R^2: {r2}\")\n"
   ]
  },
  {
   "cell_type": "markdown",
   "metadata": {},
   "source": [
    "En este observamos errores bajos pero que deben ser comparados con otros modelos y una R^2 del 97%, por lo que el modelo explica el 97% de las ventas globales."
   ]
  },
  {
   "cell_type": "markdown",
   "metadata": {},
   "source": [
    "### Redes neuronales ANN"
   ]
  },
  {
   "cell_type": "markdown",
   "metadata": {},
   "source": [
    "Posteriormente haremos redes neuronales con regresión para generar otro modelo que nos ayude a predecir las ventas globales, utlizando las mismas variables y división de training_set y test_set. En las siguientes líneas se entrena al modelo de redes neuronales. "
   ]
  },
  {
   "cell_type": "code",
   "execution_count": 140,
   "metadata": {},
   "outputs": [],
   "source": [
    "# Escalar los datos\n",
    "scaler = StandardScaler()\n",
    "X_train_scaled = scaler.fit_transform(X_train)\n",
    "X_test_scaled = scaler.transform(X_test)"
   ]
  },
  {
   "cell_type": "code",
   "execution_count": 141,
   "metadata": {},
   "outputs": [
    {
     "name": "stdout",
     "output_type": "stream",
     "text": [
      "Epoch 1/10\n"
     ]
    },
    {
     "name": "stdout",
     "output_type": "stream",
     "text": [
      "330/330 [==============================] - 2s 3ms/step - loss: 1.0896 - val_loss: 1.0227\n",
      "Epoch 2/10\n",
      "330/330 [==============================] - 1s 3ms/step - loss: 0.1857 - val_loss: 0.1640\n",
      "Epoch 3/10\n",
      "330/330 [==============================] - 1s 3ms/step - loss: 0.0777 - val_loss: 0.0962\n",
      "Epoch 4/10\n",
      "330/330 [==============================] - 1s 3ms/step - loss: 0.0468 - val_loss: 0.0701\n",
      "Epoch 5/10\n",
      "330/330 [==============================] - 1s 3ms/step - loss: 0.0308 - val_loss: 0.0502\n",
      "Epoch 6/10\n",
      "330/330 [==============================] - 1s 3ms/step - loss: 0.0210 - val_loss: 0.0374\n",
      "Epoch 7/10\n",
      "330/330 [==============================] - 1s 3ms/step - loss: 0.0148 - val_loss: 0.0296\n",
      "Epoch 8/10\n",
      "330/330 [==============================] - 1s 3ms/step - loss: 0.0108 - val_loss: 0.0232\n",
      "Epoch 9/10\n",
      "330/330 [==============================] - 1s 2ms/step - loss: 0.0084 - val_loss: 0.0188\n",
      "Epoch 10/10\n",
      "330/330 [==============================] - 1s 3ms/step - loss: 0.0064 - val_loss: 0.0157\n"
     ]
    },
    {
     "data": {
      "text/plain": [
       "<keras.src.callbacks.History at 0x19f84772d10>"
      ]
     },
     "execution_count": 141,
     "metadata": {},
     "output_type": "execute_result"
    }
   ],
   "source": [
    "# Definir la arquitectura de la red neuronal para regresión\n",
    "model = Sequential()\n",
    "model.add(Dense(units=9, activation='relu', input_dim=6))\n",
    "model.add(Dense(units=1, activation='linear'))\n",
    "\n",
    "# Compilar el modelo para regresión\n",
    "model.compile(optimizer='adam', loss='mean_squared_error')\n",
    "\n",
    "# Entrenar el modelo para regresión\n",
    "model.fit(X_train_scaled, y_train, epochs=10, batch_size=32, validation_split=0.1)"
   ]
  },
  {
   "cell_type": "markdown",
   "metadata": {},
   "source": [
    "La arquitectura de la red neuronal para regresión consiste en dos capas densas. La primera capa oculta tiene 9 unidades con la función de activación ReLU y una entrada de tamaño 6. La segunda capa de salida tiene 1 unidad con activación lineal. Se utiliza la función de pérdida de error cuadrático medio y el optimizador Adam. Durante el entrenamiento, se ejecutan 10 epochs con lotes de tamaño 32, y el 10% de los datos de entrenamiento se utiliza para la validación en cada época.\n",
    "\n",
    "De igual manera podemos observar algunas predicciones así como el valor real para ver qué tanto se acerca al resultado deseado. "
   ]
  },
  {
   "cell_type": "code",
   "execution_count": 142,
   "metadata": {},
   "outputs": [
    {
     "name": "stdout",
     "output_type": "stream",
     "text": [
      "157/157 [==============================] - 0s 2ms/step - loss: 0.0052\n",
      "Error Cuadrático Medio en el conjunto de prueba: 0.01\n",
      "157/157 [==============================] - 0s 2ms/step\n",
      "Predicción: 0.16, Valor Real: 0.17\n",
      "Predicción: 0.10, Valor Real: 0.05\n",
      "Predicción: 0.04, Valor Real: 0.08\n",
      "Predicción: -0.03, Valor Real: 0.02\n",
      "Predicción: 0.18, Valor Real: 0.19\n",
      "Predicción: 0.11, Valor Real: 0.12\n",
      "Predicción: -0.03, Valor Real: 0.14\n",
      "Predicción: 0.04, Valor Real: 0.06\n",
      "Predicción: 0.05, Valor Real: 0.07\n",
      "Predicción: 1.40, Valor Real: 1.42\n"
     ]
    }
   ],
   "source": [
    "# ...\n",
    "\n",
    "# Evaluar el modelo en el conjunto de prueba\n",
    "loss = model.evaluate(X_test_scaled, y_test)\n",
    "print(f'Error Cuadrático Medio en el conjunto de prueba: {loss:.2f}')\n",
    "\n",
    "# Convertir y_test a un array de NumPy\n",
    "y_test_array = y_test.to_numpy()\n",
    "\n",
    "# Realizar predicciones en el conjunto de prueba\n",
    "predictions = model.predict(X_test_scaled)\n",
    "\n",
    "# Visualizar algunas predicciones\n",
    "for i in range(10):\n",
    "    # Convertir las predicciones y los valores reales a tipos de datos compatibles con el formato de cadena\n",
    "    predicciones_str = \"{:.2f}\".format(predictions[i][0])\n",
    "    valor_real_str = \"{:.2f}\".format(y_test_array[i])\n",
    "\n",
    "    print(f'Predicción: {predicciones_str}, Valor Real: {valor_real_str}')\n"
   ]
  },
  {
   "cell_type": "markdown",
   "metadata": {},
   "source": [
    "Finalmente observamos las métricas del modelo."
   ]
  },
  {
   "cell_type": "code",
   "execution_count": 143,
   "metadata": {},
   "outputs": [
    {
     "name": "stdout",
     "output_type": "stream",
     "text": [
      "MAE: 0.03835182747980387\n",
      "MSE: 0.005244698211398049\n",
      "RMSE: 0.0724202886724297\n",
      "R^2: 0.9977979418507048\n"
     ]
    }
   ],
   "source": [
    "mae = mean_absolute_error(y_test, predictions)\n",
    "mse = mean_squared_error(y_test, predictions)\n",
    "rmse = np.sqrt(mse) \n",
    "r2 = r2_score(y_test, predictions)\n",
    "\n",
    "print(f\"MAE: {mae}\")\n",
    "print(f\"MSE: {mse}\")\n",
    "print(f\"RMSE: {rmse}\")\n",
    "print(f\"R^2: {r2}\")"
   ]
  },
  {
   "cell_type": "markdown",
   "metadata": {},
   "source": [
    "En comparación con arboles de decisión, este presenta mejores resultados, pues los errores son menores que los de arboles de regresion y la R^2 es del 99%, lo que significa que el 99% de las ventas globales es explicado por nuestro modelo.\n",
    "\n",
    "Sin embargo, debemos escoger la mejor opción. Se considera que debido a las buenas métricas de redes neuronales, este sería el mejor modelo, pues también es rapido y no utiliza tanta memoria como otros modelos que se han trabajado. Aun así, deberíamos hacer un análisis más profundo para verificar que no haya un overfitting en nuestro modelo."
   ]
  },
  {
   "cell_type": "markdown",
   "metadata": {},
   "source": [
    "## Parte 2. Comparación entre categorías\n",
    "\n",
    "Por otro lado, haremos una comparacion entre categorías, principalmente las de rating comparando cómo se vende cada categoría en Norte América o si hay diferencias entre ellas. \n",
    "### ANOVA\n",
    "Para ello utilizaremos un análisis ANOVA el cual nos dirá si hay diferencias significativas entre las medias de cada categoría.\n",
    "\n",
    "Nuestras hipótesis son las siguientes:"
   ]
  },
  {
   "cell_type": "markdown",
   "metadata": {},
   "source": [
    "*Hipótesis Nula: No existen diferencias significativas entre el Rating de la pelicula dependeindo de sus ventas globales*\n",
    "\\\n",
    "*Hipótesis Alternativa: Existen diferencias significativas entre el Rating de la pelicula dependeindo de sus ventas globales*"
   ]
  },
  {
   "cell_type": "code",
   "execution_count": 144,
   "metadata": {},
   "outputs": [],
   "source": [
    "OWA1 = video.iloc[ : , [5, 15]]"
   ]
  },
  {
   "cell_type": "markdown",
   "metadata": {},
   "source": [
    "Generamos el modelo y obtenemos la siguiente respuesta:"
   ]
  },
  {
   "cell_type": "code",
   "execution_count": 145,
   "metadata": {},
   "outputs": [
    {
     "name": "stdout",
     "output_type": "stream",
     "text": [
      "ANOVA de una vía - Resultados:\n",
      "Puntaje F: 25.44\n",
      "P-valor: 0.0000\n",
      "Se rechaza la hipótesis nula. Existen diferencias significativas entre grupos.\n"
     ]
    }
   ],
   "source": [
    "#creamos una lista de las emosiones de CO2 y las agrupamos por cilindraje.\n",
    "agrudatos1 = [group[1]['NA_Sales'] for group in OWA1.groupby('Rating')]\n",
    "\n",
    "#Realizamos la prueba ANOVA 1 via.\n",
    "estadistico_f, p_valor = stats.f_oneway(*agrudatos1)\n",
    "#?\n",
    "\n",
    "# Imprimimos el resultado\n",
    "print(\"ANOVA de una vía - Resultados:\")\n",
    "print(f\"Puntaje F: {estadistico_f:.2f}\")\n",
    "print(f\"P-valor: {p_valor:.4f}\")\n",
    "\n",
    "# Para simplificar la interpretación de los resultados:\n",
    "alpha = 0.05 #Podemos elegir un valor considerando nuestro nivel de confianza\n",
    "if p_valor < alpha:\n",
    "    print(\"Se rechaza la hipótesis nula. Existen diferencias significativas entre grupos.\")\n",
    "else:\n",
    "    print(\"No se rechaza la hipótesis nula. No existen diferencias significativas entre grupos.\")"
   ]
  },
  {
   "cell_type": "markdown",
   "metadata": {},
   "source": [
    "Ya que vemos que sí hay diferencias signficativas, procedemos a buscarlas en el siguiente gráfico."
   ]
  },
  {
   "cell_type": "code",
   "execution_count": 146,
   "metadata": {},
   "outputs": [
    {
     "name": "stderr",
     "output_type": "stream",
     "text": [
      "c:\\Users\\maria\\AppData\\Local\\Programs\\Python\\Python311\\Lib\\site-packages\\seaborn\\_oldcore.py:1498: FutureWarning: is_categorical_dtype is deprecated and will be removed in a future version. Use isinstance(dtype, CategoricalDtype) instead\n",
      "  if pd.api.types.is_categorical_dtype(vector):\n",
      "c:\\Users\\maria\\AppData\\Local\\Programs\\Python\\Python311\\Lib\\site-packages\\seaborn\\_oldcore.py:1498: FutureWarning: is_categorical_dtype is deprecated and will be removed in a future version. Use isinstance(dtype, CategoricalDtype) instead\n",
      "  if pd.api.types.is_categorical_dtype(vector):\n",
      "c:\\Users\\maria\\AppData\\Local\\Programs\\Python\\Python311\\Lib\\site-packages\\seaborn\\_oldcore.py:1498: FutureWarning: is_categorical_dtype is deprecated and will be removed in a future version. Use isinstance(dtype, CategoricalDtype) instead\n",
      "  if pd.api.types.is_categorical_dtype(vector):\n"
     ]
    },
    {
     "data": {
      "image/png": "[encoded data removed]",
      "text/plain": [
       "<Figure size 800x600 with 1 Axes>"
      ]
     },
     "metadata": {},
     "output_type": "display_data"
    }
   ],
   "source": [
    "#visualizamos los datos:\n",
    "# Create a box plot\n",
    "plt.figure(figsize=(8, 6))\n",
    "sns.boxplot(x='Rating', y='NA_Sales', data=OWA1, palette='Set3')\n",
    "plt.title('Box Plot Ventas de Norte América por Rating')\n",
    "plt.xlabel('Rating')\n",
    "plt.ylabel(\"Ventas de Norte América\")\n",
    "plt.show()"
   ]
  },
  {
   "cell_type": "markdown",
   "metadata": {},
   "source": [
    "Aun así, es dificil observarlo en la imagen anterior, por lo que procedemos a hacer un análisis post hoc como el de Tukey para identificar dónde se encuentran dichas diferencias. "
   ]
  },
  {
   "cell_type": "code",
   "execution_count": 147,
   "metadata": {},
   "outputs": [
    {
     "name": "stdout",
     "output_type": "stream",
     "text": [
      "\n",
      "Resultados Tukey-Kramer prueba Post Hoc:\n",
      " Multiple Comparison of Means - Tukey HSD, FWER=0.05  \n",
      "======================================================\n",
      " group1  group2 meandiff p-adj   lower   upper  reject\n",
      "------------------------------------------------------\n",
      "     AO       E   -0.936 0.9652 -3.4453  1.5734  False\n",
      "     AO    E10+  -1.0112 0.9453 -3.5211  1.4987  False\n",
      "     AO      EC  -1.0688 0.9462   -3.73  1.5925  False\n",
      "     AO     K-A  -0.4067    1.0 -3.3038  2.4905  False\n",
      "     AO       M  -0.7811 0.9889 -3.2909  1.7287  False\n",
      "     AO      RP    -1.26 0.9163 -4.1571  1.6371  False\n",
      "     AO S.Info.  -1.0764 0.9223 -3.5856  1.4327  False\n",
      "     AO       T  -1.0034 0.9476 -3.5128   1.506  False\n",
      "      E    E10+  -0.0752 0.0654 -0.1528  0.0023  False\n",
      "      E      EC  -0.1328 0.9999 -1.0207  0.7552  False\n",
      "      E     K-A   0.5293 0.9693 -0.9198  1.9784  False\n",
      "      E       M   0.1548    0.0    0.08  0.2297   True\n",
      "      E      RP   -0.324 0.9989 -1.7732  1.1251  False\n",
      "      E S.Info.  -0.1405    0.0 -0.1906 -0.0904   True\n",
      "      E       T  -0.0675 0.0171 -0.1283 -0.0066   True\n",
      "   E10+      EC  -0.0576    1.0 -0.9471   0.832  False\n",
      "   E10+     K-A   0.6045 0.9336 -0.8456  2.0546  False\n",
      "   E10+       M   0.2301    0.0  0.1381   0.322   True\n",
      "   E10+      RP  -0.2488 0.9998 -1.6989  1.2013  False\n",
      "   E10+ S.Info.  -0.0653 0.1261 -0.1385   0.008  False\n",
      "   E10+       T   0.0078    1.0 -0.0732  0.0888  False\n",
      "     EC     K-A   0.6621 0.9548 -1.0365  2.3607  False\n",
      "     EC       M   0.2876 0.9857 -0.6017   1.177  False\n",
      "     EC      RP  -0.1913    1.0 -1.8899  1.5074  False\n",
      "     EC S.Info.  -0.0077    1.0 -0.8953  0.8799  False\n",
      "     EC       T   0.0653    1.0 -0.8229  0.9536  False\n",
      "    K-A       M  -0.3745 0.9969 -1.8244  1.0755  False\n",
      "    K-A      RP  -0.8533 0.9339 -2.9019  1.1953  False\n",
      "    K-A S.Info.  -0.6698 0.8848 -2.1187  0.7791  False\n",
      "    K-A       T  -0.5967 0.9381 -2.0461  0.8526  False\n",
      "      M      RP  -0.4789 0.9836 -1.9288  0.9711  False\n",
      "      M S.Info.  -0.2953    0.0 -0.3657 -0.2249   True\n",
      "      M       T  -0.2223    0.0 -0.3007 -0.1438   True\n",
      "     RP S.Info.   0.1836    1.0 -1.2653  1.6324  False\n",
      "     RP       T   0.2566 0.9998 -1.1927  1.7059  False\n",
      "S.Info.       T    0.073 0.0014  0.0178  0.1283   True\n",
      "------------------------------------------------------\n"
     ]
    }
   ],
   "source": [
    "#Prueba Post-Hoc\n",
    "#para realizar comparaciones entre grupos\n",
    "tukeyresultado1 = pairwise_tukeyhsd(OWA1['NA_Sales'], OWA1['Rating'])\n",
    "print(\"\\nResultados Tukey-Kramer prueba Post Hoc:\")\n",
    "print(tukeyresultado1)"
   ]
  },
  {
   "cell_type": "markdown",
   "metadata": {},
   "source": [
    "Finalmente vemos que en categorías como E y M, E y T o las que no tienen información, son donde existen diferencias relevantes. "
   ]
  }
 ],
 "metadata": {
  "kernelspec": {
   "display_name": "Python 3",
   "language": "python",
   "name": "python3"
  },
  "language_info": {
   "codemirror_mode": {
    "name": "ipython",
    "version": 3
   },
   "file_extension": ".py",
   "mimetype": "text/x-python",
   "name": "python",
   "nbconvert_exporter": "python",
   "pygments_lexer": "ipython3",
   "version": "3.11.4"
  }
 },
 "nbformat": 4,
 "nbformat_minor": 2
}
